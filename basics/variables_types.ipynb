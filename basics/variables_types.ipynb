{
 "cells": [
  {
   "cell_type": "code",
   "execution_count": 2,
   "id": "2dd752dc",
   "metadata": {},
   "outputs": [
    {
     "name": "stdout",
     "output_type": "stream",
     "text": [
      "5 <class 'int'>\n",
      "3.14 <class 'float'>\n",
      "Sakshi <class 'str'>\n",
      "True <class 'bool'>\n",
      "['apple', 'banana'] <class 'list'>\n",
      "('Toyota', 'Honda') <class 'tuple'>\n",
      "('reading',) <class 'tuple'>\n",
      "(25,) <class 'tuple'>\n",
      "{'rose', 'tulip'} <class 'set'>\n",
      "{'Toyota': 'Camry', 'Honda': 'Civic'} <class 'dict'>\n"
     ]
    }
   ],
   "source": [
    "# Day 1 - Task 1: Variables & data types in Python\n",
    "\n",
    "x = 5           # int\n",
    "y = 3.14        # float\n",
    "name = \"Sakshi\" # string\n",
    "is_happy = True # boolean\n",
    "fruits = [\"apple\", \"banana\"] # list\n",
    "cars = (\"Toyota\", \"Honda\") # tuple\n",
    "hobby = \"reading\", # tuple with a single element\n",
    "age = 25, # tuple with a single element\n",
    "flowers = {\"rose\", \"tulip\"} # set\n",
    "cars_dict = {\"Toyota\": \"Camry\", \"Honda\": \"Civic\"} # dictionary\n",
    "\n",
    "\n",
    "print(x, type(x))\n",
    "print(y, type(y))\n",
    "print(name, type(name))\n",
    "print(is_happy, type(is_happy))\n",
    "print(fruits, type(fruits))\n",
    "print(cars, type(cars))\n",
    "print(hobby, type(hobby))\n",
    "print(age, type(age))\n",
    "print(flowers, type(flowers))\n",
    "print(cars_dict, type(cars_dict))\n",
    "\n"
   ]
  }
 ],
 "metadata": {
  "kernelspec": {
   "display_name": "base",
   "language": "python",
   "name": "python3"
  },
  "language_info": {
   "codemirror_mode": {
    "name": "ipython",
    "version": 3
   },
   "file_extension": ".py",
   "mimetype": "text/x-python",
   "name": "python",
   "nbconvert_exporter": "python",
   "pygments_lexer": "ipython3",
   "version": "3.10.9"
  }
 },
 "nbformat": 4,
 "nbformat_minor": 5
}
