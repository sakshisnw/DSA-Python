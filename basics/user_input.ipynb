{
 "cells": [
  {
   "cell_type": "code",
   "execution_count": 1,
   "id": "8ce31efe",
   "metadata": {},
   "outputs": [
    {
     "name": "stdout",
     "output_type": "stream",
     "text": [
      "You are 22 years old.\n",
      "150\n",
      "Sakshi Sonawane\n"
     ]
    }
   ],
   "source": [
    "# Take user input\n",
    "age = input(\"Enter your age: \")\n",
    "print(\"You are\", age, \"years old.\")\n",
    "\n",
    "# Convert string to int and add 50\n",
    "num = \"100\"\n",
    "print(int(num) + 50)\n",
    "\n",
    "# String concatenation\n",
    "first_name = \"Sakshi\"\n",
    "last_name = \"Sonawane\"\n",
    "print(first_name + \" \" + last_name)\n"
   ]
  }
 ],
 "metadata": {
  "kernelspec": {
   "display_name": "base",
   "language": "python",
   "name": "python3"
  },
  "language_info": {
   "codemirror_mode": {
    "name": "ipython",
    "version": 3
   },
   "file_extension": ".py",
   "mimetype": "text/x-python",
   "name": "python",
   "nbconvert_exporter": "python",
   "pygments_lexer": "ipython3",
   "version": "3.10.9"
  }
 },
 "nbformat": 4,
 "nbformat_minor": 5
}
