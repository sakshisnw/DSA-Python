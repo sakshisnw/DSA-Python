{
 "cells": [
  {
   "cell_type": "code",
   "execution_count": 2,
   "id": "091689e7",
   "metadata": {},
   "outputs": [
    {
     "name": "stdout",
     "output_type": "stream",
     "text": [
      "Number is Odd\n"
     ]
    }
   ],
   "source": [
    "num = 101\n",
    "if num % 2 == 0:\n",
    "    print(\"Number is Even\")\n",
    "else:\n",
    "    print(\"Number is Odd\")\n"
   ]
  },
  {
   "cell_type": "code",
   "execution_count": 6,
   "id": "9e3f111b",
   "metadata": {},
   "outputs": [
    {
     "name": "stdout",
     "output_type": "stream",
     "text": [
      "Good\n"
     ]
    }
   ],
   "source": [
    "score = 80\n",
    "if score >= 90:\n",
    "    print(\"Excellent\")\n",
    "elif score >= 75:\n",
    "    print(\"Good\")\n",
    "elif score >= 50:\n",
    "    print(\"Average\")\n",
    "else:\n",
    "    print(\"Fail\")"
   ]
  },
  {
   "cell_type": "code",
   "execution_count": 13,
   "id": "809ce40a",
   "metadata": {},
   "outputs": [
    {
     "name": "stdout",
     "output_type": "stream",
     "text": [
      "Can drive\n"
     ]
    }
   ],
   "source": [
    "age = 18\n",
    "has_license = True\n",
    "if age >= 18 and has_license:\n",
    "    print(\"Can drive\")\n",
    "else:\n",
    "    print(\"Cannot drive\")"
   ]
  },
  {
   "cell_type": "code",
   "execution_count": 18,
   "id": "34860dbe",
   "metadata": {},
   "outputs": [
    {
     "name": "stdout",
     "output_type": "stream",
     "text": [
      "Can Relax\n"
     ]
    }
   ],
   "source": [
    "day = \"Sunday\"\n",
    "is_holiday = True\n",
    "if day == \"Sunday\" or is_holiday:\n",
    "    print(\"Can Relax\")\n",
    "else:\n",
    "    print(\"It is workday\")"
   ]
  },
  {
   "cell_type": "code",
   "execution_count": 21,
   "id": "4ff8f6cf",
   "metadata": {},
   "outputs": [
    {
     "name": "stdout",
     "output_type": "stream",
     "text": [
      "Num is divisible by both\n"
     ]
    }
   ],
   "source": [
    "num = 15\n",
    "if num % 3 == 0 and num % 5 == 0:\n",
    "    print(\"Num is divisible by both\")\n",
    "elif num % 3 == 0:\n",
    "    print(\"Num is divisible by 3\")\n",
    "elif num % 5 == 0:\n",
    "    print(\"Num is divisible by 5\")\n",
    "else:\n",
    "    print(\"Not divisible by 3 or 5\")"
   ]
  },
  {
   "cell_type": "code",
   "execution_count": 22,
   "id": "8e5f2d1e",
   "metadata": {},
   "outputs": [
    {
     "name": "stdout",
     "output_type": "stream",
     "text": [
      "Num is divisible by both\n"
     ]
    }
   ],
   "source": [
    "# nested if example\n",
    "num = 15\n",
    "if num % 3 == 0:\n",
    "    if num % 5 == 0:\n",
    "        print(\"Num is divisible by both\")\n",
    "    else:\n",
    "        print(\"Num is divisible by 3\")\n",
    "elif num % 5 == 0:\n",
    "    print(\"Num is divisible by 5\")\n",
    "else:\n",
    "    print(\"Not divisible by 3 or 5\")\n"
   ]
  },
  {
   "cell_type": "code",
   "execution_count": null,
   "id": "2c961d7b",
   "metadata": {},
   "outputs": [
    {
     "name": "stdout",
     "output_type": "stream",
     "text": [
      "Status: Not Eligible\n"
     ]
    }
   ],
   "source": [
    "# Ternary operator example\n",
    "# This is a shorthand way to write an if-else statement\n",
    "age = 17\n",
    "status = \"Eligible\" if age >= 18 else \"Not Eligible\"\n",
    "print(f\"Status: {status}\")"
   ]
  },
  {
   "cell_type": "markdown",
   "id": "1297b23c",
   "metadata": {},
   "source": []
  }
 ],
 "metadata": {
  "kernelspec": {
   "display_name": "base",
   "language": "python",
   "name": "python3"
  },
  "language_info": {
   "codemirror_mode": {
    "name": "ipython",
    "version": 3
   },
   "file_extension": ".py",
   "mimetype": "text/x-python",
   "name": "python",
   "nbconvert_exporter": "python",
   "pygments_lexer": "ipython3",
   "version": "3.10.9"
  }
 },
 "nbformat": 4,
 "nbformat_minor": 5
}
